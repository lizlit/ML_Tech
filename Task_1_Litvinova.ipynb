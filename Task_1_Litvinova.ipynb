{
  "nbformat": 4,
  "nbformat_minor": 0,
  "metadata": {
    "colab": {
      "name": "Task_1_Litvinova.ipynb",
      "provenance": [],
      "collapsed_sections": []
    },
    "kernelspec": {
      "name": "python3",
      "display_name": "Python 3"
    },
    "language_info": {
      "name": "python"
    }
  },
  "cells": [
    {
      "cell_type": "code",
      "execution_count": 1,
      "metadata": {
        "id": "diWnhPTgnIZ5"
      },
      "outputs": [],
      "source": [
        "import numpy as np\n",
        "from matplotlib import pyplot as plt  \n",
        "import seaborn\n",
        "import sklearn\n",
        "import pandas as pd\n"
      ]
    },
    {
      "cell_type": "code",
      "source": [
        "df = pd.read_csv('/bioresponse - bioresponse.csv')"
      ],
      "metadata": {
        "id": "nNUUGPYhnw8h"
      },
      "execution_count": 3,
      "outputs": []
    },
    {
      "cell_type": "code",
      "source": [
        "df.head()"
      ],
      "metadata": {
        "colab": {
          "base_uri": "https://localhost:8080/",
          "height": 300
        },
        "id": "yTIDQ2P7qw0Y",
        "outputId": "060561ec-7d9a-4aa3-db4d-f470e269f2f9"
      },
      "execution_count": 4,
      "outputs": [
        {
          "output_type": "execute_result",
          "data": {
            "text/html": [
              "\n",
              "  <div id=\"df-cd878a0c-ff7c-4858-b890-89faca286096\">\n",
              "    <div class=\"colab-df-container\">\n",
              "      <div>\n",
              "<style scoped>\n",
              "    .dataframe tbody tr th:only-of-type {\n",
              "        vertical-align: middle;\n",
              "    }\n",
              "\n",
              "    .dataframe tbody tr th {\n",
              "        vertical-align: top;\n",
              "    }\n",
              "\n",
              "    .dataframe thead th {\n",
              "        text-align: right;\n",
              "    }\n",
              "</style>\n",
              "<table border=\"1\" class=\"dataframe\">\n",
              "  <thead>\n",
              "    <tr style=\"text-align: right;\">\n",
              "      <th></th>\n",
              "      <th>Activity</th>\n",
              "      <th>D1</th>\n",
              "      <th>D2</th>\n",
              "      <th>D3</th>\n",
              "      <th>D4</th>\n",
              "      <th>D5</th>\n",
              "      <th>D6</th>\n",
              "      <th>D7</th>\n",
              "      <th>D8</th>\n",
              "      <th>D9</th>\n",
              "      <th>D10</th>\n",
              "      <th>D11</th>\n",
              "      <th>D12</th>\n",
              "      <th>D13</th>\n",
              "      <th>D14</th>\n",
              "      <th>D15</th>\n",
              "      <th>D16</th>\n",
              "      <th>D17</th>\n",
              "      <th>D18</th>\n",
              "      <th>D19</th>\n",
              "      <th>D20</th>\n",
              "      <th>D21</th>\n",
              "      <th>D22</th>\n",
              "      <th>D23</th>\n",
              "      <th>D24</th>\n",
              "      <th>D25</th>\n",
              "      <th>D26</th>\n",
              "      <th>D27</th>\n",
              "      <th>D28</th>\n",
              "      <th>D29</th>\n",
              "      <th>D30</th>\n",
              "      <th>D31</th>\n",
              "      <th>D32</th>\n",
              "      <th>D33</th>\n",
              "      <th>D34</th>\n",
              "      <th>D35</th>\n",
              "      <th>D36</th>\n",
              "      <th>D37</th>\n",
              "      <th>D38</th>\n",
              "      <th>D39</th>\n",
              "      <th>...</th>\n",
              "      <th>D1737</th>\n",
              "      <th>D1738</th>\n",
              "      <th>D1739</th>\n",
              "      <th>D1740</th>\n",
              "      <th>D1741</th>\n",
              "      <th>D1742</th>\n",
              "      <th>D1743</th>\n",
              "      <th>D1744</th>\n",
              "      <th>D1745</th>\n",
              "      <th>D1746</th>\n",
              "      <th>D1747</th>\n",
              "      <th>D1748</th>\n",
              "      <th>D1749</th>\n",
              "      <th>D1750</th>\n",
              "      <th>D1751</th>\n",
              "      <th>D1752</th>\n",
              "      <th>D1753</th>\n",
              "      <th>D1754</th>\n",
              "      <th>D1755</th>\n",
              "      <th>D1756</th>\n",
              "      <th>D1757</th>\n",
              "      <th>D1758</th>\n",
              "      <th>D1759</th>\n",
              "      <th>D1760</th>\n",
              "      <th>D1761</th>\n",
              "      <th>D1762</th>\n",
              "      <th>D1763</th>\n",
              "      <th>D1764</th>\n",
              "      <th>D1765</th>\n",
              "      <th>D1766</th>\n",
              "      <th>D1767</th>\n",
              "      <th>D1768</th>\n",
              "      <th>D1769</th>\n",
              "      <th>D1770</th>\n",
              "      <th>D1771</th>\n",
              "      <th>D1772</th>\n",
              "      <th>D1773</th>\n",
              "      <th>D1774</th>\n",
              "      <th>D1775</th>\n",
              "      <th>D1776</th>\n",
              "    </tr>\n",
              "  </thead>\n",
              "  <tbody>\n",
              "    <tr>\n",
              "      <th>0</th>\n",
              "      <td>1</td>\n",
              "      <td>0.000000</td>\n",
              "      <td>0.497009</td>\n",
              "      <td>0.10</td>\n",
              "      <td>0.0</td>\n",
              "      <td>0.132956</td>\n",
              "      <td>0.678031</td>\n",
              "      <td>0.273166</td>\n",
              "      <td>0.585445</td>\n",
              "      <td>0.743663</td>\n",
              "      <td>0.243144</td>\n",
              "      <td>0.187856</td>\n",
              "      <td>0.0000</td>\n",
              "      <td>0.000000</td>\n",
              "      <td>0.069000</td>\n",
              "      <td>0.362012</td>\n",
              "      <td>0.301773</td>\n",
              "      <td>0.597930</td>\n",
              "      <td>0.190813</td>\n",
              "      <td>0.107219</td>\n",
              "      <td>0.070500</td>\n",
              "      <td>0.00717</td>\n",
              "      <td>0.137931</td>\n",
              "      <td>1</td>\n",
              "      <td>0.00</td>\n",
              "      <td>0.496683</td>\n",
              "      <td>0.753131</td>\n",
              "      <td>1</td>\n",
              "      <td>1</td>\n",
              "      <td>0.000000</td>\n",
              "      <td>0.262919</td>\n",
              "      <td>0.077200</td>\n",
              "      <td>0.082700</td>\n",
              "      <td>0.200590</td>\n",
              "      <td>0.00000</td>\n",
              "      <td>0.000000</td>\n",
              "      <td>0.0</td>\n",
              "      <td>0.0</td>\n",
              "      <td>0.162383</td>\n",
              "      <td>0.150153</td>\n",
              "      <td>...</td>\n",
              "      <td>0</td>\n",
              "      <td>0</td>\n",
              "      <td>0</td>\n",
              "      <td>0</td>\n",
              "      <td>0</td>\n",
              "      <td>0</td>\n",
              "      <td>0</td>\n",
              "      <td>0</td>\n",
              "      <td>0</td>\n",
              "      <td>0</td>\n",
              "      <td>0</td>\n",
              "      <td>0</td>\n",
              "      <td>0</td>\n",
              "      <td>0</td>\n",
              "      <td>0</td>\n",
              "      <td>0</td>\n",
              "      <td>0</td>\n",
              "      <td>0</td>\n",
              "      <td>0</td>\n",
              "      <td>0</td>\n",
              "      <td>0</td>\n",
              "      <td>0</td>\n",
              "      <td>0</td>\n",
              "      <td>0</td>\n",
              "      <td>0</td>\n",
              "      <td>0</td>\n",
              "      <td>0</td>\n",
              "      <td>0</td>\n",
              "      <td>0</td>\n",
              "      <td>0</td>\n",
              "      <td>0</td>\n",
              "      <td>0</td>\n",
              "      <td>0</td>\n",
              "      <td>0</td>\n",
              "      <td>0</td>\n",
              "      <td>0</td>\n",
              "      <td>0</td>\n",
              "      <td>0</td>\n",
              "      <td>0</td>\n",
              "      <td>0</td>\n",
              "    </tr>\n",
              "    <tr>\n",
              "      <th>1</th>\n",
              "      <td>1</td>\n",
              "      <td>0.366667</td>\n",
              "      <td>0.606291</td>\n",
              "      <td>0.05</td>\n",
              "      <td>0.0</td>\n",
              "      <td>0.111209</td>\n",
              "      <td>0.803455</td>\n",
              "      <td>0.106105</td>\n",
              "      <td>0.411754</td>\n",
              "      <td>0.836582</td>\n",
              "      <td>0.106480</td>\n",
              "      <td>0.101382</td>\n",
              "      <td>0.1875</td>\n",
              "      <td>0.193548</td>\n",
              "      <td>0.131001</td>\n",
              "      <td>0.350206</td>\n",
              "      <td>0.187419</td>\n",
              "      <td>0.762669</td>\n",
              "      <td>0.180473</td>\n",
              "      <td>0.329962</td>\n",
              "      <td>0.107681</td>\n",
              "      <td>0.01950</td>\n",
              "      <td>0.206897</td>\n",
              "      <td>0</td>\n",
              "      <td>0.75</td>\n",
              "      <td>0.449869</td>\n",
              "      <td>0.720484</td>\n",
              "      <td>0</td>\n",
              "      <td>0</td>\n",
              "      <td>0.666667</td>\n",
              "      <td>0.099400</td>\n",
              "      <td>0.289240</td>\n",
              "      <td>0.216710</td>\n",
              "      <td>0.100295</td>\n",
              "      <td>0.16958</td>\n",
              "      <td>0.235294</td>\n",
              "      <td>0.0</td>\n",
              "      <td>0.0</td>\n",
              "      <td>0.119104</td>\n",
              "      <td>0.075100</td>\n",
              "      <td>...</td>\n",
              "      <td>0</td>\n",
              "      <td>1</td>\n",
              "      <td>1</td>\n",
              "      <td>0</td>\n",
              "      <td>0</td>\n",
              "      <td>0</td>\n",
              "      <td>1</td>\n",
              "      <td>1</td>\n",
              "      <td>0</td>\n",
              "      <td>1</td>\n",
              "      <td>0</td>\n",
              "      <td>0</td>\n",
              "      <td>1</td>\n",
              "      <td>0</td>\n",
              "      <td>1</td>\n",
              "      <td>1</td>\n",
              "      <td>1</td>\n",
              "      <td>0</td>\n",
              "      <td>0</td>\n",
              "      <td>0</td>\n",
              "      <td>1</td>\n",
              "      <td>0</td>\n",
              "      <td>0</td>\n",
              "      <td>0</td>\n",
              "      <td>1</td>\n",
              "      <td>0</td>\n",
              "      <td>1</td>\n",
              "      <td>1</td>\n",
              "      <td>0</td>\n",
              "      <td>0</td>\n",
              "      <td>1</td>\n",
              "      <td>1</td>\n",
              "      <td>1</td>\n",
              "      <td>1</td>\n",
              "      <td>0</td>\n",
              "      <td>1</td>\n",
              "      <td>0</td>\n",
              "      <td>0</td>\n",
              "      <td>1</td>\n",
              "      <td>0</td>\n",
              "    </tr>\n",
              "    <tr>\n",
              "      <th>2</th>\n",
              "      <td>1</td>\n",
              "      <td>0.033300</td>\n",
              "      <td>0.480124</td>\n",
              "      <td>0.00</td>\n",
              "      <td>0.0</td>\n",
              "      <td>0.209791</td>\n",
              "      <td>0.610350</td>\n",
              "      <td>0.356453</td>\n",
              "      <td>0.517720</td>\n",
              "      <td>0.679051</td>\n",
              "      <td>0.352308</td>\n",
              "      <td>0.193548</td>\n",
              "      <td>0.1250</td>\n",
              "      <td>0.000000</td>\n",
              "      <td>0.068900</td>\n",
              "      <td>0.574628</td>\n",
              "      <td>0.283327</td>\n",
              "      <td>0.510633</td>\n",
              "      <td>0.184480</td>\n",
              "      <td>0.073300</td>\n",
              "      <td>0.061600</td>\n",
              "      <td>0.00566</td>\n",
              "      <td>0.000000</td>\n",
              "      <td>1</td>\n",
              "      <td>0.00</td>\n",
              "      <td>0.486610</td>\n",
              "      <td>0.803577</td>\n",
              "      <td>0</td>\n",
              "      <td>1</td>\n",
              "      <td>0.000000</td>\n",
              "      <td>0.428659</td>\n",
              "      <td>0.032400</td>\n",
              "      <td>0.072400</td>\n",
              "      <td>0.000000</td>\n",
              "      <td>0.03930</td>\n",
              "      <td>0.000000</td>\n",
              "      <td>0.0</td>\n",
              "      <td>0.0</td>\n",
              "      <td>0.076100</td>\n",
              "      <td>0.225229</td>\n",
              "      <td>...</td>\n",
              "      <td>0</td>\n",
              "      <td>0</td>\n",
              "      <td>0</td>\n",
              "      <td>0</td>\n",
              "      <td>0</td>\n",
              "      <td>0</td>\n",
              "      <td>0</td>\n",
              "      <td>0</td>\n",
              "      <td>0</td>\n",
              "      <td>0</td>\n",
              "      <td>0</td>\n",
              "      <td>0</td>\n",
              "      <td>0</td>\n",
              "      <td>0</td>\n",
              "      <td>0</td>\n",
              "      <td>0</td>\n",
              "      <td>0</td>\n",
              "      <td>0</td>\n",
              "      <td>0</td>\n",
              "      <td>0</td>\n",
              "      <td>0</td>\n",
              "      <td>0</td>\n",
              "      <td>0</td>\n",
              "      <td>0</td>\n",
              "      <td>0</td>\n",
              "      <td>0</td>\n",
              "      <td>0</td>\n",
              "      <td>0</td>\n",
              "      <td>0</td>\n",
              "      <td>0</td>\n",
              "      <td>0</td>\n",
              "      <td>0</td>\n",
              "      <td>0</td>\n",
              "      <td>0</td>\n",
              "      <td>0</td>\n",
              "      <td>0</td>\n",
              "      <td>0</td>\n",
              "      <td>0</td>\n",
              "      <td>0</td>\n",
              "      <td>0</td>\n",
              "    </tr>\n",
              "    <tr>\n",
              "      <th>3</th>\n",
              "      <td>1</td>\n",
              "      <td>0.000000</td>\n",
              "      <td>0.538825</td>\n",
              "      <td>0.00</td>\n",
              "      <td>0.5</td>\n",
              "      <td>0.196344</td>\n",
              "      <td>0.724230</td>\n",
              "      <td>0.235606</td>\n",
              "      <td>0.288764</td>\n",
              "      <td>0.805110</td>\n",
              "      <td>0.208989</td>\n",
              "      <td>0.000000</td>\n",
              "      <td>0.0000</td>\n",
              "      <td>0.000000</td>\n",
              "      <td>0.145947</td>\n",
              "      <td>0.584688</td>\n",
              "      <td>0.325247</td>\n",
              "      <td>0.496745</td>\n",
              "      <td>0.242288</td>\n",
              "      <td>0.087700</td>\n",
              "      <td>0.075300</td>\n",
              "      <td>0.01680</td>\n",
              "      <td>0.000000</td>\n",
              "      <td>1</td>\n",
              "      <td>0.00</td>\n",
              "      <td>0.459122</td>\n",
              "      <td>0.829482</td>\n",
              "      <td>0</td>\n",
              "      <td>1</td>\n",
              "      <td>0.000000</td>\n",
              "      <td>0.435410</td>\n",
              "      <td>0.118562</td>\n",
              "      <td>0.000000</td>\n",
              "      <td>0.000000</td>\n",
              "      <td>0.00000</td>\n",
              "      <td>0.000000</td>\n",
              "      <td>0.0</td>\n",
              "      <td>0.0</td>\n",
              "      <td>0.068900</td>\n",
              "      <td>0.000000</td>\n",
              "      <td>...</td>\n",
              "      <td>0</td>\n",
              "      <td>0</td>\n",
              "      <td>0</td>\n",
              "      <td>0</td>\n",
              "      <td>0</td>\n",
              "      <td>0</td>\n",
              "      <td>0</td>\n",
              "      <td>0</td>\n",
              "      <td>0</td>\n",
              "      <td>0</td>\n",
              "      <td>0</td>\n",
              "      <td>0</td>\n",
              "      <td>0</td>\n",
              "      <td>0</td>\n",
              "      <td>0</td>\n",
              "      <td>0</td>\n",
              "      <td>0</td>\n",
              "      <td>0</td>\n",
              "      <td>0</td>\n",
              "      <td>0</td>\n",
              "      <td>0</td>\n",
              "      <td>0</td>\n",
              "      <td>0</td>\n",
              "      <td>0</td>\n",
              "      <td>0</td>\n",
              "      <td>0</td>\n",
              "      <td>0</td>\n",
              "      <td>0</td>\n",
              "      <td>0</td>\n",
              "      <td>0</td>\n",
              "      <td>0</td>\n",
              "      <td>0</td>\n",
              "      <td>0</td>\n",
              "      <td>0</td>\n",
              "      <td>0</td>\n",
              "      <td>0</td>\n",
              "      <td>0</td>\n",
              "      <td>0</td>\n",
              "      <td>0</td>\n",
              "      <td>0</td>\n",
              "    </tr>\n",
              "    <tr>\n",
              "      <th>4</th>\n",
              "      <td>0</td>\n",
              "      <td>0.100000</td>\n",
              "      <td>0.517794</td>\n",
              "      <td>0.00</td>\n",
              "      <td>0.0</td>\n",
              "      <td>0.494734</td>\n",
              "      <td>0.781422</td>\n",
              "      <td>0.154361</td>\n",
              "      <td>0.303809</td>\n",
              "      <td>0.812646</td>\n",
              "      <td>0.125177</td>\n",
              "      <td>0.532258</td>\n",
              "      <td>0.0000</td>\n",
              "      <td>0.000000</td>\n",
              "      <td>0.094900</td>\n",
              "      <td>0.540323</td>\n",
              "      <td>0.116775</td>\n",
              "      <td>0.552982</td>\n",
              "      <td>0.167897</td>\n",
              "      <td>0.116140</td>\n",
              "      <td>0.054200</td>\n",
              "      <td>0.01350</td>\n",
              "      <td>0.103448</td>\n",
              "      <td>1</td>\n",
              "      <td>0.00</td>\n",
              "      <td>0.381883</td>\n",
              "      <td>0.913374</td>\n",
              "      <td>0</td>\n",
              "      <td>1</td>\n",
              "      <td>0.000000</td>\n",
              "      <td>0.305333</td>\n",
              "      <td>0.054100</td>\n",
              "      <td>0.170822</td>\n",
              "      <td>0.000000</td>\n",
              "      <td>0.00000</td>\n",
              "      <td>0.176471</td>\n",
              "      <td>0.0</td>\n",
              "      <td>0.0</td>\n",
              "      <td>0.019900</td>\n",
              "      <td>0.057400</td>\n",
              "      <td>...</td>\n",
              "      <td>0</td>\n",
              "      <td>0</td>\n",
              "      <td>0</td>\n",
              "      <td>0</td>\n",
              "      <td>0</td>\n",
              "      <td>0</td>\n",
              "      <td>0</td>\n",
              "      <td>0</td>\n",
              "      <td>0</td>\n",
              "      <td>0</td>\n",
              "      <td>0</td>\n",
              "      <td>0</td>\n",
              "      <td>0</td>\n",
              "      <td>0</td>\n",
              "      <td>0</td>\n",
              "      <td>0</td>\n",
              "      <td>0</td>\n",
              "      <td>0</td>\n",
              "      <td>0</td>\n",
              "      <td>0</td>\n",
              "      <td>0</td>\n",
              "      <td>0</td>\n",
              "      <td>0</td>\n",
              "      <td>0</td>\n",
              "      <td>0</td>\n",
              "      <td>0</td>\n",
              "      <td>0</td>\n",
              "      <td>0</td>\n",
              "      <td>0</td>\n",
              "      <td>0</td>\n",
              "      <td>0</td>\n",
              "      <td>0</td>\n",
              "      <td>0</td>\n",
              "      <td>0</td>\n",
              "      <td>0</td>\n",
              "      <td>0</td>\n",
              "      <td>0</td>\n",
              "      <td>0</td>\n",
              "      <td>0</td>\n",
              "      <td>0</td>\n",
              "    </tr>\n",
              "  </tbody>\n",
              "</table>\n",
              "<p>5 rows × 1777 columns</p>\n",
              "</div>\n",
              "      <button class=\"colab-df-convert\" onclick=\"convertToInteractive('df-cd878a0c-ff7c-4858-b890-89faca286096')\"\n",
              "              title=\"Convert this dataframe to an interactive table.\"\n",
              "              style=\"display:none;\">\n",
              "        \n",
              "  <svg xmlns=\"http://www.w3.org/2000/svg\" height=\"24px\"viewBox=\"0 0 24 24\"\n",
              "       width=\"24px\">\n",
              "    <path d=\"M0 0h24v24H0V0z\" fill=\"none\"/>\n",
              "    <path d=\"M18.56 5.44l.94 2.06.94-2.06 2.06-.94-2.06-.94-.94-2.06-.94 2.06-2.06.94zm-11 1L8.5 8.5l.94-2.06 2.06-.94-2.06-.94L8.5 2.5l-.94 2.06-2.06.94zm10 10l.94 2.06.94-2.06 2.06-.94-2.06-.94-.94-2.06-.94 2.06-2.06.94z\"/><path d=\"M17.41 7.96l-1.37-1.37c-.4-.4-.92-.59-1.43-.59-.52 0-1.04.2-1.43.59L10.3 9.45l-7.72 7.72c-.78.78-.78 2.05 0 2.83L4 21.41c.39.39.9.59 1.41.59.51 0 1.02-.2 1.41-.59l7.78-7.78 2.81-2.81c.8-.78.8-2.07 0-2.86zM5.41 20L4 18.59l7.72-7.72 1.47 1.35L5.41 20z\"/>\n",
              "  </svg>\n",
              "      </button>\n",
              "      \n",
              "  <style>\n",
              "    .colab-df-container {\n",
              "      display:flex;\n",
              "      flex-wrap:wrap;\n",
              "      gap: 12px;\n",
              "    }\n",
              "\n",
              "    .colab-df-convert {\n",
              "      background-color: #E8F0FE;\n",
              "      border: none;\n",
              "      border-radius: 50%;\n",
              "      cursor: pointer;\n",
              "      display: none;\n",
              "      fill: #1967D2;\n",
              "      height: 32px;\n",
              "      padding: 0 0 0 0;\n",
              "      width: 32px;\n",
              "    }\n",
              "\n",
              "    .colab-df-convert:hover {\n",
              "      background-color: #E2EBFA;\n",
              "      box-shadow: 0px 1px 2px rgba(60, 64, 67, 0.3), 0px 1px 3px 1px rgba(60, 64, 67, 0.15);\n",
              "      fill: #174EA6;\n",
              "    }\n",
              "\n",
              "    [theme=dark] .colab-df-convert {\n",
              "      background-color: #3B4455;\n",
              "      fill: #D2E3FC;\n",
              "    }\n",
              "\n",
              "    [theme=dark] .colab-df-convert:hover {\n",
              "      background-color: #434B5C;\n",
              "      box-shadow: 0px 1px 3px 1px rgba(0, 0, 0, 0.15);\n",
              "      filter: drop-shadow(0px 1px 2px rgba(0, 0, 0, 0.3));\n",
              "      fill: #FFFFFF;\n",
              "    }\n",
              "  </style>\n",
              "\n",
              "      <script>\n",
              "        const buttonEl =\n",
              "          document.querySelector('#df-cd878a0c-ff7c-4858-b890-89faca286096 button.colab-df-convert');\n",
              "        buttonEl.style.display =\n",
              "          google.colab.kernel.accessAllowed ? 'block' : 'none';\n",
              "\n",
              "        async function convertToInteractive(key) {\n",
              "          const element = document.querySelector('#df-cd878a0c-ff7c-4858-b890-89faca286096');\n",
              "          const dataTable =\n",
              "            await google.colab.kernel.invokeFunction('convertToInteractive',\n",
              "                                                     [key], {});\n",
              "          if (!dataTable) return;\n",
              "\n",
              "          const docLinkHtml = 'Like what you see? Visit the ' +\n",
              "            '<a target=\"_blank\" href=https://colab.research.google.com/notebooks/data_table.ipynb>data table notebook</a>'\n",
              "            + ' to learn more about interactive tables.';\n",
              "          element.innerHTML = '';\n",
              "          dataTable['output_type'] = 'display_data';\n",
              "          await google.colab.output.renderOutput(dataTable, element);\n",
              "          const docLink = document.createElement('div');\n",
              "          docLink.innerHTML = docLinkHtml;\n",
              "          element.appendChild(docLink);\n",
              "        }\n",
              "      </script>\n",
              "    </div>\n",
              "  </div>\n",
              "  "
            ],
            "text/plain": [
              "   Activity        D1        D2    D3   D4  ...  D1772  D1773  D1774  D1775  D1776\n",
              "0         1  0.000000  0.497009  0.10  0.0  ...      0      0      0      0      0\n",
              "1         1  0.366667  0.606291  0.05  0.0  ...      1      0      0      1      0\n",
              "2         1  0.033300  0.480124  0.00  0.0  ...      0      0      0      0      0\n",
              "3         1  0.000000  0.538825  0.00  0.5  ...      0      0      0      0      0\n",
              "4         0  0.100000  0.517794  0.00  0.0  ...      0      0      0      0      0\n",
              "\n",
              "[5 rows x 1777 columns]"
            ]
          },
          "metadata": {},
          "execution_count": 4
        }
      ]
    },
    {
      "cell_type": "code",
      "source": [
        "df.shape"
      ],
      "metadata": {
        "colab": {
          "base_uri": "https://localhost:8080/"
        },
        "id": "cRaPwFe5sbRs",
        "outputId": "11c45bdb-bb31-4565-bc92-d5035cab6f49"
      },
      "execution_count": null,
      "outputs": [
        {
          "output_type": "execute_result",
          "data": {
            "text/plain": [
              "(3751, 1777)"
            ]
          },
          "metadata": {},
          "execution_count": 6
        }
      ]
    },
    {
      "cell_type": "markdown",
      "source": [
        "Thera are 3751 rows and  1777 columns in dataset. \n"
      ],
      "metadata": {
        "id": "OvdZ5m6urGxs"
      }
    },
    {
      "cell_type": "markdown",
      "source": [
        "#1. Here we build models with a tree structure. According to docs tree classifier give predictions in (-1, 1) form. That is why we have to make some modification of true train labels and reverse conversion of test and predicted lables.\n"
      ],
      "metadata": {
        "id": "gRLrcSZxr5_7"
      }
    },
    {
      "cell_type": "code",
      "source": [
        "Y = df['Activity']\n",
        "X = df.drop(columns = ['Activity'])"
      ],
      "metadata": {
        "id": "I1lEZyHkrqXm"
      },
      "execution_count": 5,
      "outputs": []
    },
    {
      "cell_type": "code",
      "source": [
        "X = X.to_numpy()\n",
        "Y = Y.to_numpy()"
      ],
      "metadata": {
        "id": "eNxA6JnXwlpQ"
      },
      "execution_count": null,
      "outputs": []
    },
    {
      "cell_type": "markdown",
      "source": [
        "\n",
        "693 from class 1 in test sample\n",
        "1341 from class 1 in train sample"
      ],
      "metadata": {
        "id": "dBN2WUQr7l74"
      }
    },
    {
      "cell_type": "code",
      "source": [
        "Y[Y==0] = -1"
      ],
      "metadata": {
        "colab": {
          "base_uri": "https://localhost:8080/"
        },
        "id": "zn4qBuPY7FP1",
        "outputId": "8b072d30-8266-4658-c84f-ef5e2b03e670"
      },
      "execution_count": 6,
      "outputs": [
        {
          "output_type": "stream",
          "name": "stderr",
          "text": [
            "/usr/local/lib/python3.7/dist-packages/ipykernel_launcher.py:1: SettingWithCopyWarning: \n",
            "A value is trying to be set on a copy of a slice from a DataFrame\n",
            "\n",
            "See the caveats in the documentation: https://pandas.pydata.org/pandas-docs/stable/user_guide/indexing.html#returning-a-view-versus-a-copy\n",
            "  \"\"\"Entry point for launching an IPython kernel.\n"
          ]
        },
        {
          "output_type": "execute_result",
          "data": {
            "text/plain": [
              "0     1\n",
              "1     1\n",
              "2     1\n",
              "3     1\n",
              "4    -1\n",
              "5    -1\n",
              "6     1\n",
              "7     1\n",
              "8     1\n",
              "9    -1\n",
              "10    1\n",
              "11   -1\n",
              "12    1\n",
              "13    1\n",
              "14    1\n",
              "15    1\n",
              "16    1\n",
              "17    1\n",
              "18    1\n",
              "19   -1\n",
              "Name: Activity, dtype: int64"
            ]
          },
          "metadata": {},
          "execution_count": 6
        }
      ]
    },
    {
      "cell_type": "code",
      "source": [
        "from sklearn.model_selection import train_test_split\n",
        "X_train, X_test, y_train, y_test = train_test_split( X, Y, test_size=0.33, random_state=42)"
      ],
      "metadata": {
        "id": "R6RDLWAqxkvY"
      },
      "execution_count": 7,
      "outputs": []
    },
    {
      "cell_type": "code",
      "source": [
        "from sklearn.tree import DecisionTreeClassifier\n"
      ],
      "metadata": {
        "id": "p_k1Hqr5-lgi"
      },
      "execution_count": 8,
      "outputs": []
    },
    {
      "cell_type": "code",
      "source": [
        "#Small tree\n",
        "small_tree = DecisionTreeClassifier(max_depth = 3, max_features = 'auto' )\n",
        "small_tree = small_tree.fit(X_train, y_train)"
      ],
      "metadata": {
        "id": "sjBMALVZ8f4K"
      },
      "execution_count": 59,
      "outputs": []
    },
    {
      "cell_type": "code",
      "source": [
        "y_test[y_test ==-1] = 0"
      ],
      "metadata": {
        "id": "x0myMYTPAozN"
      },
      "execution_count": 10,
      "outputs": []
    },
    {
      "cell_type": "code",
      "source": [
        "y_pred_small = small_tree.predict(X_test)\n",
        "y_pred_small_proba = small_tree.predict_proba(X_test)\n",
        "y_pred_small[y_pred_small == -1] = 0"
      ],
      "metadata": {
        "colab": {
          "base_uri": "https://localhost:8080/"
        },
        "id": "MBWUfSzu-veU",
        "outputId": "13e9cb55-4d77-4640-b513-f8e112442720"
      },
      "execution_count": 60,
      "outputs": [
        {
          "output_type": "stream",
          "name": "stdout",
          "text": [
            "[0 1 0 ... 0 0 0]\n"
          ]
        }
      ]
    },
    {
      "cell_type": "code",
      "source": [
        "#Deep tree\n",
        "deep_tree = DecisionTreeClassifier(max_depth = 100 )\n",
        "deep_tree = deep_tree.fit(X_train, y_train)\n",
        "y_pred_deep = deep_tree.predict(X_test)\n",
        "y_pred_deep_proba = deep_tree.predict_proba(X_test)\n",
        "y_pred_deep[y_pred_deep == -1] = 0\n"
      ],
      "metadata": {
        "id": "ESLo7zy1J5In"
      },
      "execution_count": 64,
      "outputs": []
    },
    {
      "cell_type": "code",
      "source": [
        "from sklearn.ensemble import RandomForestClassifier"
      ],
      "metadata": {
        "id": "mo5Y1FzWM77t"
      },
      "execution_count": 18,
      "outputs": []
    },
    {
      "cell_type": "code",
      "source": [
        "# Random forest on small trees\n",
        "rf_small = RandomForestClassifier(n_estimators = 50, max_depth=10, random_state=17)\n",
        "rf_small = rf_small.fit(X_train, y_train)\n",
        "y_rf_small = rf_small.predict(X_test)\n",
        "y_rf_small_proba = rf_small.predict_proba(X_test)\n",
        "y_rf_small[y_rf_small == -1] = 0\n"
      ],
      "metadata": {
        "id": "RnpAtLkpNa09"
      },
      "execution_count": 50,
      "outputs": []
    },
    {
      "cell_type": "code",
      "source": [
        "# Random forest on deep trees\n",
        "rf_deep = RandomForestClassifier(n_estimators = 50, max_depth=1000, random_state=17)\n",
        "rf_deep = rf_deep.fit(X_train, y_train)\n",
        "y_rf_deep = rf_deep.predict(X_test)\n",
        "y_rf_deep_proba = rf_deep.predict_proba(X_test)\n",
        "y_rf_deep[y_rf_deep == -1] = 0"
      ],
      "metadata": {
        "id": "pFuBdyPHqjyY"
      },
      "execution_count": 52,
      "outputs": []
    },
    {
      "cell_type": "markdown",
      "source": [
        "#2. Here we calculate values of classification metrics"
      ],
      "metadata": {
        "id": "LmqqnL29B0i6"
      }
    },
    {
      "cell_type": "code",
      "source": [
        "from sklearn.metrics import precision_score, recall_score, accuracy_score, f1_score, log_loss"
      ],
      "metadata": {
        "id": "ggj9lCCl_zwD"
      },
      "execution_count": 12,
      "outputs": []
    },
    {
      "cell_type": "code",
      "source": [
        "print ('Precision of small decision tree = ', precision_score(y_test, y_pred_small ) )\n",
        "print ('Recall of small decision tree = ', recall_score(y_test, y_pred_small ) )\n",
        "print ('Accuracy of small decision tree = ', accuracy_score(y_test, y_pred_small ) )\n",
        "print ('F1-score of small decision tree = ', f1_score(y_test, y_pred_small ) )\n",
        "print ('Log-loss of small decision tree = ', log_loss(y_test, y_pred_small ) )"
      ],
      "metadata": {
        "colab": {
          "base_uri": "https://localhost:8080/"
        },
        "id": "wWuz-M2W_1ZR",
        "outputId": "15ba6a7c-aa50-4670-ecc6-387b53713c52"
      },
      "execution_count": 67,
      "outputs": [
        {
          "output_type": "stream",
          "name": "stdout",
          "text": [
            "Precision of small decision tree =  0.7071547420965059\n",
            "Recall of small decision tree =  0.6132756132756133\n",
            "Accuracy of small decision tree =  0.6413570274636511\n",
            "F1-score of small decision tree =  0.6568778979907264\n",
            "Log-loss of small decision tree =  12.387203108633326\n"
          ]
        }
      ]
    },
    {
      "cell_type": "code",
      "source": [
        "print ('Precision of a deep decision tree = ', precision_score(y_test, y_pred_deep ) )\n",
        "print ('Recall of a deep decision tree = ', recall_score(y_test, y_pred_deep ) )\n",
        "print ('Accuracy of a deep decision tree = ', accuracy_score(y_test, y_pred_deep ) )\n",
        "print ('F1-score of a deep decision tree = ', f1_score(y_test, y_pred_deep ) )\n",
        "print ('Log-loss of a deep decision tree = ', log_loss(y_test, y_pred_deep ) )"
      ],
      "metadata": {
        "colab": {
          "base_uri": "https://localhost:8080/"
        },
        "id": "u84NnpSHLbOa",
        "outputId": "51ef9713-370b-43e2-ff77-38dd7dc1e491"
      },
      "execution_count": 68,
      "outputs": [
        {
          "output_type": "stream",
          "name": "stdout",
          "text": [
            "Precision of a deep decision tree =  0.7488584474885844\n",
            "Recall of a deep decision tree =  0.70995670995671\n",
            "Accuracy of a deep decision tree =  0.7043618739903069\n",
            "F1-score of a deep decision tree =  0.7288888888888889\n",
            "Log-loss of a deep decision tree =  10.211085697991352\n"
          ]
        }
      ]
    },
    {
      "cell_type": "code",
      "source": [
        "print ('Precision of a rand_for on small trees decision tree = ', precision_score(y_test, y_rf_small ) )\n",
        "print ('Recall of a rand_for on small trees = ', recall_score(y_test, y_rf_small ) )\n",
        "print ('Accuracy of a rand_for on small trees = ', accuracy_score(y_test, y_rf_small ) )\n",
        "print ('F1-score of a rand_for on small trees = ', f1_score(y_test, y_rf_small ) )\n",
        "print ('Log-loss of a rand_for on small trees = ', log_loss(y_test, y_rf_small ) )"
      ],
      "metadata": {
        "colab": {
          "base_uri": "https://localhost:8080/"
        },
        "id": "Y3PucHlGOD-G",
        "outputId": "72708288-f3e3-4503-fde9-d03d8b2f0b9e"
      },
      "execution_count": 69,
      "outputs": [
        {
          "output_type": "stream",
          "name": "stdout",
          "text": [
            "Precision of a rand_for on small trees decision tree =  0.8120411160058737\n",
            "Recall of a rand_for on small trees =  0.797979797979798\n",
            "Accuracy of a rand_for on small trees =  0.7835218093699515\n",
            "F1-score of a rand_for on small trees =  0.8049490538573509\n",
            "Log-loss of a rand_for on small trees =  7.476974492978295\n"
          ]
        }
      ]
    },
    {
      "cell_type": "code",
      "source": [
        "print ('Precision of a rand_for on deep trees decision tree = ', precision_score(y_test, y_rf_deep ) )\n",
        "print ('Recall of a rand_for on deep trees = ', recall_score(y_test, y_rf_deep ) )\n",
        "print ('Accuracy of a rand_for on deep trees = ', accuracy_score(y_test, y_rf_deep ) )\n",
        "print ('F1-score of a rand_for on deep trees = ', f1_score(y_test, y_rf_deep ) )\n",
        "print ('Log-loss of a rand_for on deep trees = ', log_loss(y_test, y_rf_deep ) )"
      ],
      "metadata": {
        "colab": {
          "base_uri": "https://localhost:8080/"
        },
        "id": "EosxwdNSwxZJ",
        "outputId": "aeb5f9f1-8d18-45ea-9231-a87a991696e5"
      },
      "execution_count": 70,
      "outputs": [
        {
          "output_type": "stream",
          "name": "stdout",
          "text": [
            "Precision of a rand_for on deep trees decision tree =  0.8229166666666666\n",
            "Recall of a rand_for on deep trees =  0.797979797979798\n",
            "Accuracy of a rand_for on deep trees =  0.7907915993537964\n",
            "F1-score of a rand_for on deep trees =  0.8102564102564104\n",
            "Log-loss of a rand_for on deep trees =  7.2258790293829245\n"
          ]
        }
      ]
    },
    {
      "cell_type": "markdown",
      "source": [
        "#3. Here we build graphics"
      ],
      "metadata": {
        "id": "w_fsavqNB-nR"
      }
    },
    {
      "cell_type": "code",
      "source": [
        "from sklearn.metrics import precision_recall_curve"
      ],
      "metadata": {
        "id": "3DlJZvSOPkHe"
      },
      "execution_count": 21,
      "outputs": []
    },
    {
      "cell_type": "code",
      "source": [
        "precs = []\n",
        "recs = []\n",
        "threshs = []\n",
        "labels = [\"Small tree\", \"Deep tree\", \"RF on small trees\", \"RF on deep trees\"]\n",
        "for actual, predicted in zip([y_test, y_test, y_test, y_test], \n",
        "                                    [y_pred_small_proba[:,1], y_pred_deep_proba[:,1], y_rf_small_proba[:,1], y_rf_deep_proba[:,1]]):\n",
        "    prec, rec, thresh = precision_recall_curve(actual, predicted)\n",
        "    precs.append(prec)\n",
        "    recs.append(rec)\n",
        "    threshs.append(thresh)\n",
        "plt.figure(figsize=(28, 5))\n",
        "for i in range(4):\n",
        "    ax = plt.subplot(1, 4, i+1)\n",
        "    plt.plot(threshs[i], precs[i][:-1], label=\"precision\")\n",
        "    plt.plot(threshs[i], recs[i][:-1], label=\"recall\")\n",
        "    plt.xlabel(\"threshold\")\n",
        "    ax.set_title(labels[i])\n",
        "    plt.legend()"
      ],
      "metadata": {
        "colab": {
          "base_uri": "https://localhost:8080/",
          "height": 314
        },
        "id": "pCSLKhwGPNWT",
        "outputId": "b697adf2-b17b-42c2-f143-b6ab2406cb89"
      },
      "execution_count": 63,
      "outputs": [
        {
          "output_type": "display_data",
          "data": {
            "image/png": "[encoded data removed]",
            "text/plain": [
              "<Figure size 2016x360 with 4 Axes>"
            ]
          },
          "metadata": {
            "needs_background": "light"
          }
        }
      ]
    },
    {
      "cell_type": "code",
      "source": [
        "from sklearn.metrics import roc_curve"
      ],
      "metadata": {
        "id": "EtrVU8Xy9iGH"
      },
      "execution_count": 45,
      "outputs": []
    },
    {
      "cell_type": "code",
      "source": [
        "plt.figure(figsize=(8,6))\n",
        "for actual, predicted, descr in zip([y_test, y_test, y_test, y_test], \n",
        "                                    [y_pred_small_proba[:,1], y_pred_deep_proba[:,1], y_rf_small_proba[:,1], y_rf_deep_proba[:,1]],\n",
        "                                    [\"Small tree\", \"Deep_tree\", \"RF on small trees\", \"RF on deep trees\"]):\n",
        "    fpr, tpr, thr = roc_curve(actual, predicted)\n",
        "    plt.plot(fpr, tpr, label=descr)\n",
        "plt.xlabel(\"false positive rate\")\n",
        "plt.ylabel(\"true positive rate\")\n",
        "plt.legend(loc=4)"
      ],
      "metadata": {
        "colab": {
          "base_uri": "https://localhost:8080/",
          "height": 405
        },
        "id": "HCSwWulz9jZE",
        "outputId": "7c431952-6291-49f4-ec48-3f09b77e9435"
      },
      "execution_count": 77,
      "outputs": [
        {
          "output_type": "execute_result",
          "data": {
            "text/plain": [
              "<matplotlib.legend.Legend at 0x7f59b1a98310>"
            ]
          },
          "metadata": {},
          "execution_count": 77
        },
        {
          "output_type": "display_data",
          "data": {
            "image/png": "[encoded data removed]",
            "text/plain": [
              "<Figure size 576x432 with 1 Axes>"
            ]
          },
          "metadata": {
            "needs_background": "light"
          }
        }
      ]
    },
    {
      "cell_type": "markdown",
      "source": [
        "#4. As we can see a random forest on small trees shows the highest values of metrics, therefore we will try to increase recall for this model. As far as we need recall >=0.95 it would be better to take thresholf in [0.2 ; 0.25]\n"
      ],
      "metadata": {
        "id": "yu3zL-URCIJ6"
      }
    },
    {
      "cell_type": "code",
      "source": [
        "prec, rec, thres = precision_recall_curve(y_test, y_rf_small_proba[:, 1])\n",
        "plt.figure(figsize=(8,7))\n",
        "plt.grid()\n",
        "plt.plot(thres, rec[: -1], label = \"Recall\")\n",
        "plt.legend()"
      ],
      "metadata": {
        "colab": {
          "base_uri": "https://localhost:8080/",
          "height": 445
        },
        "id": "5Ywvu6bE6_XG",
        "outputId": "9c9aa9cd-d080-44e5-9679-058617d6e2a9"
      },
      "execution_count": 75,
      "outputs": [
        {
          "output_type": "execute_result",
          "data": {
            "text/plain": [
              "<matplotlib.legend.Legend at 0x7f59b1479650>"
            ]
          },
          "metadata": {},
          "execution_count": 75
        },
        {
          "output_type": "display_data",
          "data": {
            "image/png": "[encoded data removed]",
            "text/plain": [
              "<Figure size 576x504 with 1 Axes>"
            ]
          },
          "metadata": {
            "needs_background": "light"
          }
        }
      ]
    },
    {
      "cell_type": "code",
      "source": [
        "avoid_FN = np.where(y_rf_small_proba[:,1] >=0.25 , 1, 0)\n",
        "print ('Precision of a rand_for on deep trees decision tree = ', precision_score(y_test, avoid_FN ) )\n",
        "print ('Recall of a rand_for on deep trees = ', recall_score(y_test, avoid_FN ) )\n",
        "print ('Accuracy of a rand_for on deep trees = ', accuracy_score(y_test, avoid_FN ) )\n",
        "print ('F1-score of a rand_for on deep trees = ', f1_score(y_test, avoid_FN ) )\n",
        "print ('Log-loss of a rand_for on deep trees = ', log_loss(y_test, avoid_FN ) )\n"
      ],
      "metadata": {
        "colab": {
          "base_uri": "https://localhost:8080/"
        },
        "id": "8tE1ARz7KV0e",
        "outputId": "6c5468a3-d27d-4ea2-93f1-0f479fbcdcea"
      },
      "execution_count": 76,
      "outputs": [
        {
          "output_type": "stream",
          "name": "stdout",
          "text": [
            "Precision of a rand_for on deep trees decision tree =  0.6280148423005566\n",
            "Recall of a rand_for on deep trees =  0.976911976911977\n",
            "Accuracy of a rand_for on deep trees =  0.6631663974151858\n",
            "F1-score of a rand_for on deep trees =  0.7645398080180688\n",
            "Log-loss of a rand_for on deep trees =  11.634079479198112\n"
          ]
        }
      ]
    },
    {
      "cell_type": "markdown",
      "source": [
        "So we have reached recall >=0.95. But, in my opinion, threshold=0.25 is too low to lable object as 1. But everything depends on topic and data specific"
      ],
      "metadata": {
        "id": "T-NGQ6IdL-NA"
      }
    },
    {
      "cell_type": "code",
      "source": [
        ""
      ],
      "metadata": {
        "id": "UFTXg2b-L8jC"
      },
      "execution_count": null,
      "outputs": []
    },
    {
      "cell_type": "code",
      "source": [
        ""
      ],
      "metadata": {
        "id": "lG07WzYn6_ec"
      },
      "execution_count": null,
      "outputs": []
    }
  ]
}