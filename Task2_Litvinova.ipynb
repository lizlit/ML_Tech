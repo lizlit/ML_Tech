{
  "nbformat": 4,
  "nbformat_minor": 0,
  "metadata": {
    "colab": {
      "name": "Task2_Litvinova.ipynb",
      "provenance": [],
      "collapsed_sections": []
    },
    "kernelspec": {
      "name": "python3",
      "display_name": "Python 3"
    },
    "language_info": {
      "name": "python"
    }
  },
  "cells": [
    {
      "cell_type": "code",
      "execution_count": 2,
      "metadata": {
        "id": "RJZw49wkWYFv"
      },
      "outputs": [],
      "source": [
        "import numpy as np\n",
        "import matplotlib\n",
        "import matplotlib.pyplot as plt\n",
        "import sklearn.datasets as dt\n",
        "from sklearn.model_selection import train_test_split\n"
      ]
    },
    {
      "cell_type": "code",
      "source": [
        "def dfdx(x,y):\n",
        "    return 2*x\n",
        "def dfdy(x,y):\n",
        "    return 2*y\n",
        "\n",
        "def grad_vector(x,y):\n",
        "    return np.array([dfdx(x,y), dfdy(x,y)])"
      ],
      "metadata": {
        "id": "ny1QVFyBeO_z"
      },
      "execution_count": 4,
      "outputs": []
    },
    {
      "cell_type": "markdown",
      "source": [
        "\n",
        "# 1.1 Classic gradient descent\n",
        "\n"
      ],
      "metadata": {
        "id": "WPYrPtxyWnJK"
      }
    },
    {
      "cell_type": "code",
      "source": [
        "def grad_descent_mult(df,x_prev,learn_rate):\n",
        "    #value of the stop criterion\n",
        "    epsilon = 0.0001 \n",
        "    #iteration counter\n",
        "    grad_itter = 1\n",
        "    \n",
        "    #aarays of \"visited\" point (function arguments)\n",
        "    seq_x = [] \n",
        "    seq_y = []\n",
        "\n",
        "    # we move in the direction of anti-gradient as far as it is a direction of the fastest decreasing of the objective function\n",
        "    x_next = np.subtract(x_prev, learn_rate*grad_vector(x_prev[0],x_prev[1]))\n",
        "    #History of visited point (by coordinates)\n",
        "    seq_x = np.append(seq_x, x_next[0])\n",
        "    seq_y = np.append(seq_y, x_next[1])\n",
        "    \n",
        "    #do actions while stop criterion is false\n",
        "    while np.linalg.norm(np.subtract(x_next,x_prev)) > epsilon:\n",
        "        \n",
        "        x_prev = x_next\n",
        "        x_next = x_prev - learn_rate*grad_vector(x_prev[0],x_prev[1])\n",
        "        grad_itter += 1\n",
        "        \n",
        "        seq_x = np.append(seq_x, x_next[0])\n",
        "        seq_y = np.append(seq_y, x_next[1])\n",
        "    \n",
        "    return (x_next, grad_itter, seq_x,seq_y)"
      ],
      "metadata": {
        "id": "I2UXpGdCrEI-"
      },
      "execution_count": 5,
      "outputs": []
    },
    {
      "cell_type": "markdown",
      "source": [
        "# 2.1 Checking of gradient descent on function \n",
        "$$f^2 = x^2 + y^2$$\n"
      ],
      "metadata": {
        "id": "LVVc7QGHW6oQ"
      }
    },
    {
      "cell_type": "code",
      "source": [
        "grad_output = grad_descent_mult(grad_vector, np.array([6,2]), 0.2)\n",
        "x_min = grad_output[0][0]\n",
        "y_min = grad_output[0][1]\n",
        "print('Minimum (x,y) from gradient descent: {0:.4f},  {0:.4f} '.format(x_min,y_min))\n",
        "print('Number of gradient descent iterations: %s' %grad_output[1])\n"
      ],
      "metadata": {
        "colab": {
          "base_uri": "https://localhost:8080/"
        },
        "id": "NnNE-cZwxSGm",
        "outputId": "57e931c6-e5ea-451f-ca33-6b1633f5ec00"
      },
      "execution_count": 6,
      "outputs": [
        {
          "output_type": "stream",
          "name": "stdout",
          "text": [
            "Minimum (x,y) from gradient descent: 0.0001,  0.0001 \n",
            "Number of gradient descent iterations: 21\n"
          ]
        }
      ]
    },
    {
      "cell_type": "code",
      "source": [
        "diff = []\n",
        "for i in range(1, grad_output[1], 1):\n",
        "  val = np.sqrt((grad_output[2][i] - grad_output[2][i-1])**2 + (grad_output[3][i] - grad_output[3][i-1])**2)\n",
        "  diff = np.append(diff, val)\n",
        "\n"
      ],
      "metadata": {
        "id": "wmA49jSBrPcp"
      },
      "execution_count": 7,
      "outputs": []
    },
    {
      "cell_type": "markdown",
      "source": [
        "#3.1 Graph of dependence  between iteration number and $|x_{prev} - x_{next}|$ in case of gradient descent"
      ],
      "metadata": {
        "id": "JKBGVGQoXbP2"
      }
    },
    {
      "cell_type": "code",
      "source": [
        "plt.plot(np.arange(grad_output[1]-1),diff)\n",
        "plt.xlabel('Iteration No.')\n",
        "plt.ylabel('Difference')\n",
        "plt.title('Dependence')\n",
        "plt.show()"
      ],
      "metadata": {
        "colab": {
          "base_uri": "https://localhost:8080/",
          "height": 295
        },
        "id": "wtaQsvO2_KD2",
        "outputId": "ef3a409a-8dc6-42be-a946-352f08ffe325"
      },
      "execution_count": 8,
      "outputs": [
        {
          "output_type": "display_data",
          "data": {
            "image/png": "[encoded data removed]",
            "text/plain": [
              "<Figure size 432x288 with 1 Axes>"
            ]
          },
          "metadata": {
            "needs_background": "light"
          }
        }
      ]
    },
    {
      "cell_type": "markdown",
      "source": [
        "#1.2 Adam optimization algorithm"
      ],
      "metadata": {
        "id": "L4rRu6ogYUAC"
      }
    },
    {
      "cell_type": "code",
      "source": [
        "def adam(df,x_prev,learn_rate, beta_1, beta_2, gamma):\n",
        "\n",
        "    #value of the stop criterion\n",
        "    epsilon = 0.0001 \n",
        "    #iteration counter\n",
        "    grad_itter = 1\n",
        "    \n",
        "    #aarays of \"visited\" point (function arguments)\n",
        "    seq_x = [] \n",
        "    seq_y = []\n",
        "    V_prev = 0\n",
        "    S_prev = 0\n",
        "    #before defining next point we should add vectors V_t and S_t\n",
        "    V_next = beta_1 * V_prev + (1 - beta_1) * grad_vector(x_prev[0], x_prev[1])\n",
        "    S_next = beta_2 * S_prev + ( 1 - beta_2) * (grad_vector(x_prev[0], x_prev[1]))**2\n",
        "    S_next_corr = S_next/(1 - gamma)\n",
        "    \n",
        "    x_next = np.subtract(x_prev, learn_rate * V_next * (1 / (np.sqrt(S_next_corr) + epsilon)))\n",
        "    #History of visited point (by coordinates)\n",
        "    seq_x = np.append(seq_x, x_next[0])\n",
        "    seq_y = np.append(seq_y, x_next[1])\n",
        "    \n",
        "    #do actions while stop criterion is false\n",
        "    while np.linalg.norm(np.subtract(x_next,x_prev)) > epsilon:\n",
        "        \n",
        "        x_prev = x_next\n",
        "        V_prev = V_next\n",
        "        S_prev = S_next\n",
        "        V_next = beta_1 * V_prev + (1 - beta_1) * grad_vector(x_prev[0], x_prev[1])\n",
        "        S_next = beta_2 * S_prev + ( 1 - beta_2) * (grad_vector(x_prev[0], x_prev[1]))**2\n",
        "        S_next_corr = S_next/(1 - gamma)\n",
        "    \n",
        "        x_next = np.subtract(x_prev, learn_rate * V_next * (1 / (np.sqrt(S_next_corr) + epsilon)))\n",
        "        #x_next = x_prev - learn_rate*grad_vector(x_prev[0],x_prev[1])\n",
        "        grad_itter += 1\n",
        "        \n",
        "        seq_x = np.append(seq_x, x_next[0])\n",
        "        seq_y = np.append(seq_y, x_next[1])\n",
        "    \n",
        "    return (x_next, grad_itter, seq_x,seq_y)"
      ],
      "metadata": {
        "id": "7rLuqhISt8LP"
      },
      "execution_count": 10,
      "outputs": []
    },
    {
      "cell_type": "markdown",
      "source": [
        "# 2.2 Checking of Adam on function \n",
        "$$f^2 = x^2 + y^2$$\n"
      ],
      "metadata": {
        "id": "ZT_hJl8FXWmg"
      }
    },
    {
      "cell_type": "code",
      "source": [
        "grad_output_adam = adam(grad_vector, np.array([6,2]), 0.5, 0.9, 0.99, 0.3)\n",
        "x_min = grad_output_adam[0][0]\n",
        "y_min = grad_output_adam[0][1]\n",
        "print('Minimum (x,y) from gradient descent: {0:.4f},  {0:.4f} '.format(x_min,y_min))\n",
        "print('Number of gradient descent iterations: %s' %grad_output_adam[1])"
      ],
      "metadata": {
        "colab": {
          "base_uri": "https://localhost:8080/"
        },
        "id": "j9aIfnOgUczA",
        "outputId": "c62db3cd-49cd-49d8-9d41-642aa5fc1c27"
      },
      "execution_count": 21,
      "outputs": [
        {
          "output_type": "stream",
          "name": "stdout",
          "text": [
            "Minimum (x,y) from gradient descent: 0.0007,  0.0007 \n",
            "Number of gradient descent iterations: 174\n"
          ]
        }
      ]
    },
    {
      "cell_type": "code",
      "source": [
        "diff_adam = []\n",
        "for i in range(1, grad_output_adam[1], 1):\n",
        "  val = np.sqrt((grad_output_adam[2][i] - grad_output_adam[2][i-1])**2 + (grad_output_adam[3][i] - grad_output_adam[3][i-1])**2)\n",
        "  diff_adam = np.append(diff_adam, val)"
      ],
      "metadata": {
        "id": "en2gaPl8V2kq"
      },
      "execution_count": 19,
      "outputs": []
    },
    {
      "cell_type": "markdown",
      "source": [
        "#3.2 Graph of dependence  between iteration number and $|x_{prev} - x_{next}|$ in case of Adam"
      ],
      "metadata": {
        "id": "iV3QcSBmYOEu"
      }
    },
    {
      "cell_type": "code",
      "source": [
        "plt.plot(np.arange(grad_output_adam[1]-1),diff_adam)\n",
        "plt.xlabel('Iteration No.')\n",
        "plt.ylabel('Difference')\n",
        "plt.title('Dependence')\n",
        "plt.show()"
      ],
      "metadata": {
        "colab": {
          "base_uri": "https://localhost:8080/",
          "height": 295
        },
        "id": "fg2gvLZyWRl4",
        "outputId": "9f18a48b-57a1-4bf5-80c5-ccd5552f9da3"
      },
      "execution_count": 20,
      "outputs": [
        {
          "output_type": "display_data",
          "data": {
            "image/png": "[encoded data removed]",
            "text/plain": [
              "<Figure size 432x288 with 1 Axes>"
            ]
          },
          "metadata": {
            "needs_background": "light"
          }
        }
      ]
    }
  ]
}