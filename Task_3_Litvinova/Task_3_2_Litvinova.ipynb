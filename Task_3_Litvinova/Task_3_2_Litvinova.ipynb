{
  "nbformat": 4,
  "nbformat_minor": 0,
  "metadata": {
    "colab": {
      "name": "Task_3_2_Litvinova.ipynb",
      "provenance": []
    },
    "kernelspec": {
      "name": "python3",
      "display_name": "Python 3"
    },
    "language_info": {
      "name": "python"
    }
  },
  "cells": [
    {
      "cell_type": "code",
      "execution_count": 1,
      "metadata": {
        "id": "FYYgB0jU6O_7"
      },
      "outputs": [],
      "source": [
        "import numpy as np\n",
        "import matplotlib.pyplot as plt\n",
        "import scipy\n",
        "import pandas as pd\n",
        "%matplotlib inline\n"
      ]
    },
    {
      "cell_type": "code",
      "source": [
        "import random"
      ],
      "metadata": {
        "id": "zdOPLkqM_c0g"
      },
      "execution_count": 10,
      "outputs": []
    },
    {
      "cell_type": "code",
      "source": [
        "df = pd.read_csv('/content/bioresponse.csv')\n",
        "Y_data = df['Activity']\n",
        "X_data = df.drop(columns = ['Activity'])\n",
        "X_1 = X_data.to_numpy()\n",
        "Y_1 = Y_data.to_numpy()"
      ],
      "metadata": {
        "id": "lKv505JY7pLE"
      },
      "execution_count": 2,
      "outputs": []
    },
    {
      "cell_type": "code",
      "source": [
        "def sigmoid(z):\n",
        "    \"\"\"\n",
        "    Compute the sigmoid of z\n",
        "\n",
        "    Arguments:\n",
        "    z -- A scalar or numpy array of any size.\n",
        "\n",
        "    Return:\n",
        "    s -- sigmoid(z)\n",
        "    \"\"\"\n",
        "    s = 1./(1.+np.exp(-z))\n",
        "    \n",
        "    return s"
      ],
      "metadata": {
        "id": "jEXaAf9q-Er7"
      },
      "execution_count": 3,
      "outputs": []
    },
    {
      "cell_type": "code",
      "source": [
        "def initialize_with_zeros(dim):\n",
        "    \"\"\"\n",
        "    This function creates a vector of zeros of shape (dim, 1) for w and initializes b to 0.\n",
        "    \n",
        "    Argument:\n",
        "    dim -- size of the w vector we want (or number of parameters in this case)\n",
        "    \n",
        "    Returns:\n",
        "    w -- initialized vector of shape (dim, 1)\n",
        "    b -- initialized scalar (corresponds to the bias)\n",
        "    \"\"\"\n",
        "    w = np.zeros((dim,1))\n",
        "    b = 0.\n",
        "    \n",
        "    return w, b"
      ],
      "metadata": {
        "id": "RR6bOMj--Hof"
      },
      "execution_count": 4,
      "outputs": []
    },
    {
      "cell_type": "code",
      "source": [
        "from sklearn.model_selection import train_test_split\n",
        "X_train, X_test, y_train, y_test = train_test_split( X_1, Y_1, test_size=0.25)"
      ],
      "metadata": {
        "id": "_JNsC9vc-Kks"
      },
      "execution_count": 5,
      "outputs": []
    },
    {
      "cell_type": "code",
      "source": [
        "def propagate(w, b, X, Y):\n",
        "    \"\"\"\n",
        "    Implement the cost function and its gradient for the propagation explained above\n",
        "\n",
        "    Arguments:\n",
        "    w -- weights, a numpy array of size which equals the number of features\n",
        "    b -- bias, a scalar\n",
        "    X -- data \n",
        "    Y -- true \"label\" vector (containing 0 and 1) of size (1, number of examples)\n",
        "\n",
        "    Return:\n",
        "    cost -- negative log-likelihood cost for logistic regression\n",
        "    dw -- gradient of the loss with respect to w, thus same shape as w\n",
        "    db -- gradient of the loss with respect to b, thus same shape as b\n",
        "    \n",
        "    \"\"\"\n",
        "    m = X.shape[1]\n",
        "    #print('number of objects = ',len(X))\n",
        "    \n",
        "    # FORWARD PROPAGATION (FROM X TO COST)\n",
        "    A = sigmoid(np.dot(w.T,X)+b )                                 # compute activation\n",
        "    cost = -(1./m)*np.sum(Y*np.log(A)+(1-Y)*np.log(1-A),axis=1)   # compute cost\n",
        "    \n",
        "    # BACKWARD PROPAGATION (TO FIND GRAD)\n",
        "    dw = (1./m)*np.dot(X,(A-Y).T)\n",
        "    db = (1./m)*np.sum(A-Y,axis=1)\n",
        "\n",
        "    grads = {\"dw\": dw,\n",
        "             \"db\": db}\n",
        "    \n",
        "    return grads, cost\n",
        "    "
      ],
      "metadata": {
        "id": "EKW1mS9K-OXz"
      },
      "execution_count": 6,
      "outputs": []
    },
    {
      "cell_type": "code",
      "source": [
        "w, b = initialize_with_zeros(X_train.shape[1])\n",
        "print(w.shape)\n",
        "print(X_train.T.shape)\n",
        "Y_train = np.array([y_train])\n",
        "print(Y_train.shape)\n",
        "grads, cost = propagate(w, b, X_train.T, Y_train)\n",
        "#print(shape)\n",
        "\n",
        "print (\"dw = \" + str(grads[\"dw\"]))\n",
        "print (\"db = \" + str(grads[\"db\"]))\n",
        "print (\"# of objects \" + str(X_train.T.shape[1]))\n",
        "print (\"cost = \" + str(cost))"
      ],
      "metadata": {
        "colab": {
          "base_uri": "https://localhost:8080/"
        },
        "id": "333nBtUW-WCp",
        "outputId": "069337e8-0ead-4e47-b2e8-4f74f5733e1f"
      },
      "execution_count": 7,
      "outputs": [
        {
          "output_type": "stream",
          "name": "stdout",
          "text": [
            "(1776, 1)\n",
            "(1776, 2813)\n",
            "(1, 2813)\n",
            "dw = [[ 0.00039713]\n",
            " [-0.02883808]\n",
            " [-0.00869179]\n",
            " ...\n",
            " [-0.00088873]\n",
            " [-0.00444365]\n",
            " [-0.00124422]]\n",
            "db = [-0.03928191]\n",
            "# of objects 2813\n",
            "cost = [0.69314718]\n"
          ]
        }
      ]
    },
    {
      "cell_type": "code",
      "source": [
        "def optimize(w, b, X, Y, num_iterations, learning_rate, print_cost = False):\n",
        "    \"\"\"\n",
        "    This function optimizes w and b by running a gradient descent algorithm\n",
        "    \n",
        "    Arguments:\n",
        "    w -- weights, a numpy array \n",
        "    b -- bias, a scalar\n",
        "    X -- data \n",
        "    Y -- true \"label\" vector (containing 0 and 1), of shape (1, number of examples)\n",
        "    num_iterations -- number of iterations of the optimization loop\n",
        "    learning_rate -- learning rate of the gradient descent update rule\n",
        "    print_cost -- True to print the loss every 100 steps\n",
        "    \n",
        "    Returns:\n",
        "    params -- dictionary containing the weights w and bias b\n",
        "    grads -- dictionary containing the gradients of the weights and bias with respect to the cost function\n",
        "    costs -- list of all the costs computed during the optimization, this will be used to plot the learning curve.\n",
        "    \n",
        "    \"\"\"\n",
        "    \n",
        "    costs = []\n",
        "    \n",
        "    for i in range(num_iterations):\n",
        "                \n",
        "        # Cost and gradient calculation \n",
        "        grads, cost = propagate(w,b,X,Y)\n",
        "        \n",
        "        \n",
        "        # Retrieve derivatives from grads\n",
        "        dw = grads[\"dw\"]\n",
        "        db = grads[\"db\"]\n",
        "\n",
        "        k = (random.randrange(w.shape[0]))\n",
        "        # update rule\n",
        "        w[k] -=learning_rate*dw[k]\n",
        "        b -=learning_rate*db\n",
        "        \n",
        "        # Record the costs\n",
        "        if i % 1000 == 0:\n",
        "            costs.append(cost)\n",
        "        \n",
        "        # Print the cost every 100 training iterations\n",
        "        if print_cost and i % 1000 == 0:\n",
        "            print (\"Cost after iteration %i: %f\" %(i, cost))\n",
        "    \n",
        "    params = {\"w\": w,\n",
        "              \"b\": b}\n",
        "    \n",
        "    grads = {\"dw\": dw,\n",
        "             \"db\": db}\n",
        "    \n",
        "    return params, grads, costs"
      ],
      "metadata": {
        "id": "6-3gfHDL-bUA"
      },
      "execution_count": 45,
      "outputs": []
    },
    {
      "cell_type": "code",
      "source": [
        "w, b = initialize_with_zeros(X_train.shape[1])\n",
        "grads, cost = propagate(w, b, X_train.T, Y_train)\n",
        "\n",
        "\n",
        "print (\"dw = \" + str(grads[\"dw\"]))\n",
        "print (\"db = \" + str(grads[\"db\"]))\n",
        "print (\"# of objects \" + str(X_train.T.shape[1]))\n",
        "print (\"cost = \" + str(cost))"
      ],
      "metadata": {
        "colab": {
          "base_uri": "https://localhost:8080/"
        },
        "id": "hlRlrNrLAz0n",
        "outputId": "49ef7e20-b02d-4158-c47d-3ac762c9ac89"
      },
      "execution_count": 43,
      "outputs": [
        {
          "output_type": "stream",
          "name": "stdout",
          "text": [
            "dw = [[ 0.00039713]\n",
            " [-0.02883808]\n",
            " [-0.00869179]\n",
            " ...\n",
            " [-0.00088873]\n",
            " [-0.00444365]\n",
            " [-0.00124422]]\n",
            "db = [-0.03928191]\n",
            "# of objects 2813\n",
            "cost = [0.69314718]\n"
          ]
        }
      ]
    },
    {
      "cell_type": "code",
      "source": [
        "params, grads, costs = optimize(w, b, X_train.T, y_train.T, num_iterations= 40000, learning_rate = 0.4, print_cost = True)\n",
        "\n",
        "print (\"w = \" + str(params[\"w\"]))\n",
        "print (\"b = \" + str(params[\"b\"]))\n",
        "print (\"dw = \" + str(grads[\"dw\"]))\n",
        "print (\"db = \" + str(grads[\"db\"]))"
      ],
      "metadata": {
        "colab": {
          "base_uri": "https://localhost:8080/"
        },
        "id": "UvGQiQU2BNBr",
        "outputId": "d51c20f0-4ec9-4d95-c923-17b031c43b5a"
      },
      "execution_count": 46,
      "outputs": [
        {
          "output_type": "stream",
          "name": "stdout",
          "text": [
            "Cost after iteration 0: 0.679231\n",
            "Cost after iteration 1000: 0.667251\n",
            "Cost after iteration 2000: 0.654793\n",
            "Cost after iteration 3000: 0.647684\n",
            "Cost after iteration 4000: 0.640368\n",
            "Cost after iteration 5000: 0.630796\n",
            "Cost after iteration 6000: 0.625008\n",
            "Cost after iteration 7000: 0.620138\n",
            "Cost after iteration 8000: 0.614411\n",
            "Cost after iteration 9000: 0.609850\n",
            "Cost after iteration 10000: 0.604613\n",
            "Cost after iteration 11000: 0.601100\n",
            "Cost after iteration 12000: 0.597773\n",
            "Cost after iteration 13000: 0.591913\n",
            "Cost after iteration 14000: 0.589382\n",
            "Cost after iteration 15000: 0.584359\n",
            "Cost after iteration 16000: 0.580034\n",
            "Cost after iteration 17000: 0.576798\n",
            "Cost after iteration 18000: 0.574654\n",
            "Cost after iteration 19000: 0.570422\n",
            "Cost after iteration 20000: 0.566086\n",
            "Cost after iteration 21000: 0.563838\n",
            "Cost after iteration 22000: 0.558671\n",
            "Cost after iteration 23000: 0.555437\n",
            "Cost after iteration 24000: 0.551983\n",
            "Cost after iteration 25000: 0.548651\n",
            "Cost after iteration 26000: 0.546716\n",
            "Cost after iteration 27000: 0.543963\n",
            "Cost after iteration 28000: 0.541447\n",
            "Cost after iteration 29000: 0.539820\n",
            "Cost after iteration 30000: 0.538172\n",
            "Cost after iteration 31000: 0.535842\n",
            "Cost after iteration 32000: 0.533519\n",
            "Cost after iteration 33000: 0.531360\n",
            "Cost after iteration 34000: 0.530289\n",
            "Cost after iteration 35000: 0.528884\n",
            "Cost after iteration 36000: 0.526872\n",
            "Cost after iteration 37000: 0.525775\n",
            "Cost after iteration 38000: 0.523893\n",
            "Cost after iteration 39000: 0.522076\n",
            "w = [[-0.01262635]\n",
            " [ 0.02148629]\n",
            " [ 0.02450694]\n",
            " ...\n",
            " [-0.00485476]\n",
            " [ 0.00853265]\n",
            " [ 0.00103665]]\n",
            "b = [-0.60757396]\n",
            "dw = [[ 0.00045858]\n",
            " [-0.00208511]\n",
            " [-0.00130721]\n",
            " ...\n",
            " [ 0.00046807]\n",
            " [-0.00061152]\n",
            " [-0.00016974]]\n",
            "db = [6.3149389e-05]\n"
          ]
        }
      ]
    },
    {
      "cell_type": "code",
      "source": [
        "def predict(w, b, X):\n",
        "    '''\n",
        "    Predict whether the label is 0 or 1 using learned logistic regression parameters (w, b)\n",
        "    \n",
        "    Arguments:\n",
        "    w -- weights, a numpy array \n",
        "    b -- bias, a scalar\n",
        "    X -- data \n",
        "    \n",
        "    Returns:\n",
        "    Y_prediction -- a numpy array (vector) containing all predictions (0/1) for the examples in X\n",
        "    '''\n",
        "    \n",
        "    m = X.shape[1]\n",
        "    Y_prediction = np.zeros((1,m))\n",
        "    w = w.reshape(X.shape[0], 1)\n",
        "    \n",
        "    # Compute vector \"A\" predicting the probabilities \n",
        "    A = sigmoid(np.dot(w.T,X)+b)\n",
        "    \n",
        "    for i in range(A.shape[1]):\n",
        "        \n",
        "        # Convert probabilities A[0,i] to actual predictions p[0,i]\n",
        "        if (A[0,i]<=0.5):\n",
        "            Y_prediction[0][i]=0\n",
        "        else:\n",
        "            Y_prediction[0][i]=1\n",
        "    \n",
        "    return Y_prediction"
      ],
      "metadata": {
        "id": "57fI5qvlEa-P"
      },
      "execution_count": 47,
      "outputs": []
    },
    {
      "cell_type": "code",
      "source": [
        "def model(X_train, Y_train, X_test, Y_test, num_iterations = 2000, learning_rate = 0.5, print_cost = False):\n",
        "    \"\"\"\n",
        "    Builds the logistic regression model by calling the function we've implemented previously\n",
        "    \n",
        "    Arguments:\n",
        "    X_train -- training set represented by a numpy array \n",
        "    Y_train -- training labels represented by a numpy array (vector) of shape (1, m_train)\n",
        "    X_test -- test set represented by a numpy array \n",
        "    Y_test -- test labels represented by a numpy array (vector) of shape (1, m_test)\n",
        "    num_iterations -- hyperparameter representing the number of iterations to optimize the parameters\n",
        "    learning_rate -- hyperparameter representing the learning rate used in the update rule of optimize()\n",
        "    print_cost -- Set to true to print the cost every 100 iterations\n",
        "    \n",
        "    Returns:\n",
        "    d -- dictionary containing information about the model.\n",
        "    \"\"\"\n",
        "    \n",
        "    # initialize parameters with zeros \n",
        "    w, b = initialize_with_zeros(X_train.shape[0])\n",
        "\n",
        "    # Gradient descent\n",
        "    parameters, grads, costs = optimize(w, b, X_train, Y_train, num_iterations, learning_rate, print_cost)\n",
        "    \n",
        "    # Retrieve parameters w and b from dictionary \"parameters\"\n",
        "    w = parameters[\"w\"]\n",
        "    b = parameters[\"b\"]\n",
        "    \n",
        "    # Predict test/train set examples\n",
        "    Y_prediction_test = predict(w, b, X_test)\n",
        "    Y_prediction_train = predict(w, b, X_train)\n",
        "\n",
        "    # Print train/test Errors\n",
        "    print(\"train accuracy: {} %\".format(100 - np.mean(np.abs(Y_prediction_train - Y_train)) * 100))\n",
        "    print(\"test accuracy: {} %\".format(100 - np.mean(np.abs(Y_prediction_test - Y_test)) * 100))\n",
        "\n",
        "    d = {\"costs\": costs,\n",
        "         \"Y_prediction_test\": Y_prediction_test, \n",
        "         \"Y_prediction_train\" : Y_prediction_train, \n",
        "         \"w\" : w, \n",
        "         \"b\" : b,\n",
        "         \"learning_rate\" : learning_rate,\n",
        "         \"num_iterations\": num_iterations}\n",
        "    \n",
        "    return d"
      ],
      "metadata": {
        "id": "qMdfOGqWEb7n"
      },
      "execution_count": 48,
      "outputs": []
    },
    {
      "cell_type": "code",
      "source": [
        "d = model(X_train.T, y_train.T, X_test.T, y_test.T, num_iterations = 40000, learning_rate = 0.4, print_cost = True)"
      ],
      "metadata": {
        "colab": {
          "base_uri": "https://localhost:8080/"
        },
        "id": "g_5CbPMHEg-K",
        "outputId": "b2c01173-b8cc-4480-d920-3f3326bd4658"
      },
      "execution_count": 52,
      "outputs": [
        {
          "output_type": "stream",
          "name": "stdout",
          "text": [
            "Cost after iteration 0: 0.693147\n",
            "Cost after iteration 1000: 0.672497\n",
            "Cost after iteration 2000: 0.653778\n",
            "Cost after iteration 3000: 0.640664\n",
            "Cost after iteration 4000: 0.628780\n",
            "Cost after iteration 5000: 0.622370\n",
            "Cost after iteration 6000: 0.617437\n",
            "Cost after iteration 7000: 0.611801\n",
            "Cost after iteration 8000: 0.606004\n",
            "Cost after iteration 9000: 0.598186\n",
            "Cost after iteration 10000: 0.591936\n",
            "Cost after iteration 11000: 0.586929\n",
            "Cost after iteration 12000: 0.581399\n",
            "Cost after iteration 13000: 0.578557\n",
            "Cost after iteration 14000: 0.575301\n",
            "Cost after iteration 15000: 0.572706\n",
            "Cost after iteration 16000: 0.569868\n",
            "Cost after iteration 17000: 0.567840\n",
            "Cost after iteration 18000: 0.563837\n",
            "Cost after iteration 19000: 0.560111\n",
            "Cost after iteration 20000: 0.558099\n",
            "Cost after iteration 21000: 0.554868\n",
            "Cost after iteration 22000: 0.552870\n",
            "Cost after iteration 23000: 0.549915\n",
            "Cost after iteration 24000: 0.548026\n",
            "Cost after iteration 25000: 0.546334\n",
            "Cost after iteration 26000: 0.544479\n",
            "Cost after iteration 27000: 0.542799\n",
            "Cost after iteration 28000: 0.541456\n",
            "Cost after iteration 29000: 0.539991\n",
            "Cost after iteration 30000: 0.538808\n",
            "Cost after iteration 31000: 0.537439\n",
            "Cost after iteration 32000: 0.536164\n",
            "Cost after iteration 33000: 0.533752\n",
            "Cost after iteration 34000: 0.532489\n",
            "Cost after iteration 35000: 0.530121\n",
            "Cost after iteration 36000: 0.528819\n",
            "Cost after iteration 37000: 0.525006\n",
            "Cost after iteration 38000: 0.523743\n",
            "Cost after iteration 39000: 0.522822\n",
            "train accuracy: 76.43085673658017 %\n",
            "test accuracy: 74.09381663113007 %\n"
          ]
        }
      ]
    },
    {
      "cell_type": "code",
      "source": [
        "plt.plot(np.arange(d[\"num_iterations\"]/1000),d[\"costs\"])\n",
        "plt.xlabel('Iteration No.')\n",
        "plt.ylabel('Cost')\n",
        "plt.title('Dependence')\n",
        "plt.show()"
      ],
      "metadata": {
        "colab": {
          "base_uri": "https://localhost:8080/",
          "height": 295
        },
        "id": "KDso5XoCHUm0",
        "outputId": "cbacf988-2953-4638-bbbe-bec3babb236f"
      },
      "execution_count": 53,
      "outputs": [
        {
          "output_type": "display_data",
          "data": {
            "image/png": "[encoded data removed]",
            "text/plain": [
              "<Figure size 432x288 with 1 Axes>"
            ]
          },
          "metadata": {
            "needs_background": "light"
          }
        }
      ]
    },
    {
      "cell_type": "markdown",
      "source": [
        "On average, in the case of optimization by the SKD method, the error also decreases, although not so smoothly. And acuracy is a bit lower than in case of classic GD and test data\n"
      ],
      "metadata": {
        "id": "XCgOq2PRJPNu"
      }
    }
  ]
}