{
  "nbformat": 4,
  "nbformat_minor": 0,
  "metadata": {
    "colab": {
      "name": "Task_3_SGD.ipynb",
      "provenance": []
    },
    "kernelspec": {
      "name": "python3",
      "display_name": "Python 3"
    },
    "language_info": {
      "name": "python"
    }
  },
  "cells": [
    {
      "cell_type": "code",
      "execution_count": 1,
      "metadata": {
        "id": "GUg3MJjG8NRH"
      },
      "outputs": [],
      "source": [
        "import numpy as np\n",
        "import matplotlib.pyplot as plt\n",
        "import scipy\n",
        "import pandas as pd\n",
        "%matplotlib inline"
      ]
    },
    {
      "cell_type": "code",
      "source": [
        "import random"
      ],
      "metadata": {
        "id": "FofSaiORCMZV"
      },
      "execution_count": 9,
      "outputs": []
    },
    {
      "cell_type": "code",
      "source": [
        "df = pd.read_csv('/content/bioresponse.csv')\n",
        "Y_data = df['Activity']\n",
        "X_data = df.drop(columns = ['Activity'])\n",
        "X_1 = X_data.to_numpy()\n",
        "Y_1 = Y_data.to_numpy()"
      ],
      "metadata": {
        "id": "vRI31GYP8Pjj"
      },
      "execution_count": 2,
      "outputs": []
    },
    {
      "cell_type": "code",
      "source": [
        "def sigmoid(z):\n",
        "    s = 1./(1.+np.exp(-z))    \n",
        "    return s\n",
        "\n",
        "\n",
        "def initialize_with_zeros(dim):\n",
        "    w = np.zeros((dim,1))\n",
        "    b = 0.    \n",
        "    return w, b"
      ],
      "metadata": {
        "id": "3LboKGWT8UJ7"
      },
      "execution_count": 4,
      "outputs": []
    },
    {
      "cell_type": "code",
      "source": [
        "from sklearn.model_selection import train_test_split\n",
        "X_train, X_test, y_train, y_test = train_test_split( X_1, Y_1, test_size=0.25)"
      ],
      "metadata": {
        "id": "VIVO4MUk_lFJ"
      },
      "execution_count": 5,
      "outputs": []
    },
    {
      "cell_type": "code",
      "source": [
        "def propagate(w, b, X, Y):\n",
        "    m = X.shape[1]\n",
        "    #print('number of objects = ',len(X))\n",
        "    \n",
        "    # FORWARD PROPAGATION (FROM X TO COST)\n",
        "    A = sigmoid(np.dot(w.T,X)+b )                                 # compute activation\n",
        "    cost = -(1./m)*np.sum(Y*np.log(A)+(1-Y)*np.log(1-A),axis=1)   # compute cost\n",
        "    \n",
        "    # BACKWARD PROPAGATION (TO FIND GRAD)\n",
        "    dw = (1./m)*np.dot(X,(A-Y).T)\n",
        "    db = (1./m)*np.sum(A-Y,axis=1)\n",
        "\n",
        "    grads = {\"dw\": dw,\n",
        "             \"db\": db}\n",
        "    \n",
        "    return grads, cost"
      ],
      "metadata": {
        "id": "FaOHvS7h_avb"
      },
      "execution_count": 24,
      "outputs": []
    },
    {
      "cell_type": "code",
      "source": [
        "def optimize(w, b, X, Y, num_iterations, learning_rate, print_cost = False):\n",
        "    costs = []\n",
        "    \n",
        "    for i in range(num_iterations):\n",
        "        #SGD correction\n",
        "        k = random.sample(range(0, X_train.shape[1]), int(0.2 * X_train.shape[1]))\n",
        "        grads, cost = propagate(w,b,X[:, k],Y[k])\n",
        "        dw = grads[\"dw\"]\n",
        "        db = grads[\"db\"]\n",
        "        w -=learning_rate*dw\n",
        "        b -=learning_rate*db\n",
        "        if i % 1000 == 0:\n",
        "            costs.append(cost)\n",
        "        \n",
        "        if print_cost and i % 1000 == 0:\n",
        "            print (\"Cost after iteration %i: %f\" %(i, cost))\n",
        "    \n",
        "    params = {\"w\": w,\n",
        "              \"b\": b}\n",
        "    \n",
        "    grads = {\"dw\": dw,\n",
        "             \"db\": db}\n",
        "    \n",
        "    return params, grads, costs"
      ],
      "metadata": {
        "id": "2uIxKod4_vWk"
      },
      "execution_count": 27,
      "outputs": []
    },
    {
      "cell_type": "code",
      "source": [
        "def predict(w, b, X):\n",
        "    m = X.shape[1]\n",
        "    Y_prediction = np.zeros((1,m))\n",
        "    w = w.reshape(X.shape[0], 1)\n",
        "    \n",
        "    # Compute vector \"A\" predicting the probabilities \n",
        "    A = sigmoid(np.dot(w.T,X)+b)\n",
        "    \n",
        "    for i in range(A.shape[1]):\n",
        "        \n",
        "        # Convert probabilities A[0,i] to actual predictions p[0,i]\n",
        "        if (A[0,i]<=0.5):\n",
        "            Y_prediction[0][i]=0\n",
        "        else:\n",
        "            Y_prediction[0][i]=1\n",
        "    \n",
        "    return Y_prediction"
      ],
      "metadata": {
        "id": "pMqmTxdK_7MD"
      },
      "execution_count": 26,
      "outputs": []
    },
    {
      "cell_type": "code",
      "source": [
        "def model(X_train, Y_train, X_test, Y_test, num_iterations = 2000, learning_rate = 0.5, print_cost = False):\n",
        "    \n",
        "    w, b = initialize_with_zeros(X_train.shape[0])\n",
        "    parameters, grads, costs = optimize(w, b, X_train, Y_train, num_iterations, learning_rate, print_cost)\n",
        "    w = parameters[\"w\"]\n",
        "    b = parameters[\"b\"]\n",
        "    \n",
        "    # Predict test/train set examples\n",
        "    Y_prediction_test = predict(w, b, X_test)\n",
        "    Y_prediction_train = predict(w, b, X_train)\n",
        "\n",
        "    # Print train/test Errors\n",
        "    print(\"train accuracy: {} %\".format(100 - np.mean(np.abs(Y_prediction_train - Y_train)) * 100))\n",
        "    print(\"test accuracy: {} %\".format(100 - np.mean(np.abs(Y_prediction_test - Y_test)) * 100))\n",
        "\n",
        "    d = {\"costs\": costs,\n",
        "         \"Y_prediction_test\": Y_prediction_test, \n",
        "         \"Y_prediction_train\" : Y_prediction_train, \n",
        "         \"w\" : w, \n",
        "         \"b\" : b,\n",
        "         \"learning_rate\" : learning_rate,\n",
        "         \"num_iterations\": num_iterations}\n",
        "    \n",
        "    return d"
      ],
      "metadata": {
        "id": "U9i-J06K__-3"
      },
      "execution_count": 28,
      "outputs": []
    },
    {
      "cell_type": "code",
      "source": [
        "d = model(X_train.T, y_train.T, X_test.T, y_test.T, num_iterations = 40000, learning_rate = 0.4, print_cost = True)"
      ],
      "metadata": {
        "colab": {
          "base_uri": "https://localhost:8080/"
        },
        "id": "mpJptH7sAFy5",
        "outputId": "85a72e09-a6d5-4e8b-e236-938b29240ae5"
      },
      "execution_count": 29,
      "outputs": [
        {
          "output_type": "stream",
          "name": "stdout",
          "text": [
            "Cost after iteration 0: 0.693147\n",
            "Cost after iteration 1000: 0.542484\n",
            "Cost after iteration 2000: 0.282261\n",
            "Cost after iteration 3000: 0.255651\n",
            "Cost after iteration 4000: 0.223693\n",
            "Cost after iteration 5000: 0.213456\n",
            "Cost after iteration 6000: 0.221298\n",
            "Cost after iteration 7000: 0.192304\n",
            "Cost after iteration 8000: 0.240688\n",
            "Cost after iteration 9000: 0.194203\n",
            "Cost after iteration 10000: 0.234436\n",
            "Cost after iteration 11000: 0.231147\n",
            "Cost after iteration 12000: 0.184220\n",
            "Cost after iteration 13000: 0.212242\n",
            "Cost after iteration 14000: 0.161245\n",
            "Cost after iteration 15000: 0.177247\n",
            "Cost after iteration 16000: 0.163594\n",
            "Cost after iteration 17000: 0.209142\n",
            "Cost after iteration 18000: 0.202561\n",
            "Cost after iteration 19000: 0.178459\n",
            "Cost after iteration 20000: 0.157191\n",
            "Cost after iteration 21000: 0.170042\n",
            "Cost after iteration 22000: 0.165266\n",
            "Cost after iteration 23000: 0.158437\n",
            "Cost after iteration 24000: 0.174570\n",
            "Cost after iteration 25000: 0.176279\n",
            "Cost after iteration 26000: 0.171665\n",
            "Cost after iteration 27000: 0.163676\n",
            "Cost after iteration 28000: 0.168548\n",
            "Cost after iteration 29000: 0.166552\n",
            "Cost after iteration 30000: 0.161562\n",
            "Cost after iteration 31000: 0.126044\n"
          ]
        },
        {
          "output_type": "stream",
          "name": "stderr",
          "text": [
            "/usr/local/lib/python3.7/dist-packages/ipykernel_launcher.py:7: RuntimeWarning: divide by zero encountered in log\n",
            "  import sys\n",
            "/usr/local/lib/python3.7/dist-packages/ipykernel_launcher.py:7: RuntimeWarning: invalid value encountered in multiply\n",
            "  import sys\n"
          ]
        },
        {
          "output_type": "stream",
          "name": "stdout",
          "text": [
            "Cost after iteration 32000: 0.165854\n",
            "Cost after iteration 33000: nan\n",
            "Cost after iteration 34000: 0.159467\n",
            "Cost after iteration 35000: 0.181850\n",
            "Cost after iteration 36000: 0.141161\n",
            "Cost after iteration 37000: 0.156102\n",
            "Cost after iteration 38000: 0.128333\n",
            "Cost after iteration 39000: 0.121448\n",
            "train accuracy: 85.92250266619267 %\n",
            "test accuracy: 73.88059701492537 %\n"
          ]
        }
      ]
    },
    {
      "cell_type": "code",
      "source": [
        "plt.plot(np.arange(d[\"num_iterations\"]/1000),d[\"costs\"])\n",
        "plt.xlabel('Iteration No.')\n",
        "plt.ylabel('Cost')\n",
        "plt.title('Dependence')\n",
        "plt.show()"
      ],
      "metadata": {
        "colab": {
          "base_uri": "https://localhost:8080/",
          "height": 295
        },
        "id": "4XINy2LxFhUC",
        "outputId": "79b80a0f-8fa9-45a0-c049-e971b37deb39"
      },
      "execution_count": 30,
      "outputs": [
        {
          "output_type": "display_data",
          "data": {
            "image/png": "[encoded data removed]",
            "text/plain": [
              "<Figure size 432x288 with 1 Axes>"
            ]
          },
          "metadata": {
            "needs_background": "light"
          }
        }
      ]
    }
  ]
}